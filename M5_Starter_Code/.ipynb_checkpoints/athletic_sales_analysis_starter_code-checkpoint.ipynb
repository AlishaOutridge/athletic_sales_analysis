{
 "cells": [
  {
   "cell_type": "code",
   "execution_count": 1,
   "metadata": {},
   "outputs": [],
   "source": [
    "# Import Libraries and Dependencies\n",
    "import pandas as pd"
   ]
  },
  {
   "cell_type": "markdown",
   "metadata": {},
   "source": [
    "### 1. Combine and Clean the Data\n",
    "#### Import CSVs"
   ]
  },
  {
   "cell_type": "code",
   "execution_count": 2,
   "metadata": {},
   "outputs": [],
   "source": [
    "# Read the CSV files into DataFrames.\n",
    "\n",
    "# Load the data\n",
    "data_2020 = pd.read_csv('/Users/alishaoutridge/Documents/GitHub/athletic_sales_analysis/M5_Starter_Code/Resources/athletic_sales_2020.csv')\n",
    "data_2021 = pd.read_csv('/Users/alishaoutridge/Documents/GitHub/athletic_sales_analysis/M5_Starter_Code/Resources/athletic_sales_2021.csv')"
   ]
  },
  {
   "cell_type": "code",
   "execution_count": 6,
   "metadata": {},
   "outputs": [
    {
     "name": "stdout",
     "output_type": "stream",
     "text": [
      "      retailer  retailer_id invoice_date     region         state  \\\n",
      "0  Foot Locker      1185732       1/1/20  Northeast      New York   \n",
      "1  Foot Locker      1185732       1/1/20  Northeast  Pennsylvania   \n",
      "2  Foot Locker      1185732       1/1/20  Northeast  Pennsylvania   \n",
      "3  Foot Locker      1185732       1/1/20  Northeast      New York   \n",
      "4  Foot Locker      1185732       1/1/20  Northeast  Pennsylvania   \n",
      "\n",
      "           city                product  price_per_unit  units_sold  \\\n",
      "0      New York  Men's Street Footwear              50        1200   \n",
      "1  Philadelphia        Women's Apparel              68          83   \n",
      "2  Philadelphia        Women's Apparel              75         275   \n",
      "3      New York  Men's Street Footwear              34         384   \n",
      "4  Philadelphia        Women's Apparel              53          83   \n",
      "\n",
      "   total_sales  operating_profit sales_method  \n",
      "0       600000         300000.00     In-store  \n",
      "1         5644           2426.92       Online  \n",
      "2       206250          61875.00       Outlet  \n",
      "3        13056           6789.12       Outlet  \n",
      "4         4399           1407.68       Outlet  \n",
      "    retailer  retailer_id invoice_date   region       state           city  \\\n",
      "0  West Gear      1128299       1/1/21     West  California  San Francisco   \n",
      "1  West Gear      1128299       1/1/21     West  California  San Francisco   \n",
      "2     Kohl's      1189833       1/1/21  Midwest     Montana       Billings   \n",
      "3     Kohl's      1189833       1/1/21  Midwest     Montana       Billings   \n",
      "4  West Gear      1128299       1/1/21     West  California  San Francisco   \n",
      "\n",
      "                   product  price_per_unit  units_sold  total_sales  \\\n",
      "0  Men's Athletic Footwear              65         750       487500   \n",
      "1  Men's Athletic Footwear              51         233        11883   \n",
      "2            Men's Apparel              50         275       137500   \n",
      "3            Men's Apparel              47          77         3619   \n",
      "4  Men's Athletic Footwear              64         225        14400   \n",
      "\n",
      "   operating_profit sales_method  \n",
      "0         121875.00       Outlet  \n",
      "1           3208.41       Outlet  \n",
      "2          82500.00       Outlet  \n",
      "3           2714.25       Online  \n",
      "4           5184.00       Online  \n",
      "retailer             object\n",
      "retailer_id           int64\n",
      "invoice_date         object\n",
      "region               object\n",
      "state                object\n",
      "city                 object\n",
      "product              object\n",
      "price_per_unit        int64\n",
      "units_sold            int64\n",
      "total_sales           int64\n",
      "operating_profit    float64\n",
      "sales_method         object\n",
      "dtype: object\n",
      "retailer             object\n",
      "retailer_id           int64\n",
      "invoice_date         object\n",
      "region               object\n",
      "state                object\n",
      "city                 object\n",
      "product              object\n",
      "price_per_unit        int64\n",
      "units_sold            int64\n",
      "total_sales           int64\n",
      "operating_profit    float64\n",
      "sales_method         object\n",
      "dtype: object\n",
      "Index(['retailer', 'retailer_id', 'invoice_date', 'region', 'state', 'city',\n",
      "       'product', 'price_per_unit', 'units_sold', 'total_sales',\n",
      "       'operating_profit', 'sales_method'],\n",
      "      dtype='object')\n",
      "Index(['retailer', 'retailer_id', 'invoice_date', 'region', 'state', 'city',\n",
      "       'product', 'price_per_unit', 'units_sold', 'total_sales',\n",
      "       'operating_profit', 'sales_method'],\n",
      "      dtype='object')\n"
     ]
    }
   ],
   "source": [
    "# Display the 2020 sales DataFrame\n",
    "# Display the first few rows of the data as a test that I did it correctly\n",
    "print(data_2020.head())\n",
    "print(data_2021.head())\n",
    "\n",
    "# DoubleCheck data types\n",
    "print(data_2020.dtypes)\n",
    "print(data_2021.dtypes)\n",
    "\n",
    "# DoubleCheck for column name consistency\n",
    "print(data_2020.columns)\n",
    "print(data_2021.columns)\n"
   ]
  },
  {
   "cell_type": "code",
   "execution_count": 7,
   "metadata": {},
   "outputs": [
    {
     "name": "stdout",
     "output_type": "stream",
     "text": [
      "         retailer  retailer_id invoice_date     region         state  \\\n",
      "0       West Gear      1128299       1/1/21       West    California   \n",
      "1       West Gear      1128299       1/1/21       West    California   \n",
      "2          Kohl's      1189833       1/1/21    Midwest       Montana   \n",
      "3          Kohl's      1189833       1/1/21    Midwest       Montana   \n",
      "4       West Gear      1128299       1/1/21       West    California   \n",
      "...           ...          ...          ...        ...           ...   \n",
      "8341  Foot Locker      1185732     12/31/21  Northeast  Pennsylvania   \n",
      "8342  Foot Locker      1185732     12/31/21  Northeast  Pennsylvania   \n",
      "8343       Amazon      1185732     12/31/21  Northeast         Maine   \n",
      "8344       Amazon      1185732     12/31/21  Northeast         Maine   \n",
      "8345  Foot Locker      1185732     12/31/21  Northeast  Pennsylvania   \n",
      "\n",
      "               city                  product  price_per_unit  units_sold  \\\n",
      "0     San Francisco  Men's Athletic Footwear              65         750   \n",
      "1     San Francisco  Men's Athletic Footwear              51         233   \n",
      "2          Billings            Men's Apparel              50         275   \n",
      "3          Billings            Men's Apparel              47          77   \n",
      "4     San Francisco  Men's Athletic Footwear              64         225   \n",
      "...             ...                      ...             ...         ...   \n",
      "8341   Philadelphia            Men's Apparel              63          47   \n",
      "8342   Philadelphia            Men's Apparel              46          56   \n",
      "8343       Portland            Men's Apparel              52          36   \n",
      "8344       Portland            Men's Apparel              55         125   \n",
      "8345   Philadelphia            Men's Apparel              70         175   \n",
      "\n",
      "      total_sales  operating_profit sales_method  \n",
      "0          487500         121875.00       Outlet  \n",
      "1           11883           3208.41       Outlet  \n",
      "2          137500          82500.00       Outlet  \n",
      "3            3619           2714.25       Online  \n",
      "4           14400           5184.00       Online  \n",
      "...           ...               ...          ...  \n",
      "8341         2961           1362.06       Online  \n",
      "8342         2576           1004.64       Outlet  \n",
      "8343         1872            692.64       Online  \n",
      "8344        68750          17187.50       Outlet  \n",
      "8345       122500          42875.00       Outlet  \n",
      "\n",
      "[8346 rows x 12 columns]\n"
     ]
    }
   ],
   "source": [
    "# Display the 2021 sales DataFrame\n",
    "print(data_2021)"
   ]
  },
  {
   "cell_type": "markdown",
   "metadata": {},
   "source": [
    "#### Check the data types of each DataFrame"
   ]
  },
  {
   "cell_type": "code",
   "execution_count": 8,
   "metadata": {},
   "outputs": [
    {
     "name": "stdout",
     "output_type": "stream",
     "text": [
      "retailer             object\n",
      "retailer_id           int64\n",
      "invoice_date         object\n",
      "region               object\n",
      "state                object\n",
      "city                 object\n",
      "product              object\n",
      "price_per_unit        int64\n",
      "units_sold            int64\n",
      "total_sales           int64\n",
      "operating_profit    float64\n",
      "sales_method         object\n",
      "dtype: object\n"
     ]
    }
   ],
   "source": [
    "# Check the 2020 sales data types.\n",
    "# Display the data types of each column\n",
    "print(data_2020.dtypes)"
   ]
  },
  {
   "cell_type": "code",
   "execution_count": 9,
   "metadata": {},
   "outputs": [
    {
     "name": "stdout",
     "output_type": "stream",
     "text": [
      "retailer             object\n",
      "retailer_id           int64\n",
      "invoice_date         object\n",
      "region               object\n",
      "state                object\n",
      "city                 object\n",
      "product              object\n",
      "price_per_unit        int64\n",
      "units_sold            int64\n",
      "total_sales           int64\n",
      "operating_profit    float64\n",
      "sales_method         object\n",
      "dtype: object\n"
     ]
    }
   ],
   "source": [
    "# Check the 2021 sales data types.\n",
    "\n",
    "# Display the data types of each column\n",
    "print(data_2021.dtypes)\n"
   ]
  },
  {
   "cell_type": "markdown",
   "metadata": {},
   "source": [
    "#### Combine the sales data by rows."
   ]
  },
  {
   "cell_type": "code",
   "execution_count": 11,
   "metadata": {},
   "outputs": [
    {
     "name": "stdout",
     "output_type": "stream",
     "text": [
      "      retailer  retailer_id invoice_date     region         state  \\\n",
      "0  Foot Locker      1185732       1/1/20  Northeast      New York   \n",
      "1  Foot Locker      1185732       1/1/20  Northeast  Pennsylvania   \n",
      "2  Foot Locker      1185732       1/1/20  Northeast  Pennsylvania   \n",
      "3  Foot Locker      1185732       1/1/20  Northeast      New York   \n",
      "4  Foot Locker      1185732       1/1/20  Northeast  Pennsylvania   \n",
      "\n",
      "           city                product  price_per_unit  units_sold  \\\n",
      "0      New York  Men's Street Footwear              50        1200   \n",
      "1  Philadelphia        Women's Apparel              68          83   \n",
      "2  Philadelphia        Women's Apparel              75         275   \n",
      "3      New York  Men's Street Footwear              34         384   \n",
      "4  Philadelphia        Women's Apparel              53          83   \n",
      "\n",
      "   total_sales  operating_profit sales_method  \n",
      "0       600000         300000.00     In-store  \n",
      "1         5644           2426.92       Online  \n",
      "2       206250          61875.00       Outlet  \n",
      "3        13056           6789.12       Outlet  \n",
      "4         4399           1407.68       Outlet  \n",
      "         retailer  retailer_id invoice_date     region         state  \\\n",
      "9638  Foot Locker      1185732     12/31/21  Northeast  Pennsylvania   \n",
      "9639  Foot Locker      1185732     12/31/21  Northeast  Pennsylvania   \n",
      "9640       Amazon      1185732     12/31/21  Northeast         Maine   \n",
      "9641       Amazon      1185732     12/31/21  Northeast         Maine   \n",
      "9642  Foot Locker      1185732     12/31/21  Northeast  Pennsylvania   \n",
      "\n",
      "              city        product  price_per_unit  units_sold  total_sales  \\\n",
      "9638  Philadelphia  Men's Apparel              63          47         2961   \n",
      "9639  Philadelphia  Men's Apparel              46          56         2576   \n",
      "9640      Portland  Men's Apparel              52          36         1872   \n",
      "9641      Portland  Men's Apparel              55         125        68750   \n",
      "9642  Philadelphia  Men's Apparel              70         175       122500   \n",
      "\n",
      "      operating_profit sales_method  \n",
      "9638           1362.06       Online  \n",
      "9639           1004.64       Outlet  \n",
      "9640            692.64       Online  \n",
      "9641          17187.50       Outlet  \n",
      "9642          42875.00       Outlet  \n"
     ]
    }
   ],
   "source": [
    "# Combine the 2020 and 2021 sales DataFrames on the rows and reset the index.\n",
    "combined_data = pd.concat([data_2020, data_2021], ignore_index=True)\n",
    "\n",
    "#reset Index & drop the old one to avoid confusion\n",
    "combined_data.reset_index(drop=True, inplace=True)\n",
    "\n",
    "#verify it looks correct\n",
    "print(combined_data.head())\n",
    "print(combined_data.tail())"
   ]
  },
  {
   "cell_type": "code",
   "execution_count": 12,
   "metadata": {},
   "outputs": [
    {
     "name": "stdout",
     "output_type": "stream",
     "text": [
      "retailer            0\n",
      "retailer_id         0\n",
      "invoice_date        0\n",
      "region              0\n",
      "state               0\n",
      "city                0\n",
      "product             0\n",
      "price_per_unit      0\n",
      "units_sold          0\n",
      "total_sales         0\n",
      "operating_profit    0\n",
      "sales_method        0\n",
      "dtype: int64\n"
     ]
    }
   ],
   "source": [
    "# Check if any values are null.\n",
    "\n",
    "null_counts = combined_data.isnull().sum()\n",
    "\n",
    "# Display the number of null values in each column to verify\n",
    "print(null_counts)"
   ]
  },
  {
   "cell_type": "code",
   "execution_count": 13,
   "metadata": {},
   "outputs": [
    {
     "name": "stdout",
     "output_type": "stream",
     "text": [
      "retailer             object\n",
      "retailer_id           int64\n",
      "invoice_date         object\n",
      "region               object\n",
      "state                object\n",
      "city                 object\n",
      "product              object\n",
      "price_per_unit        int64\n",
      "units_sold            int64\n",
      "total_sales           int64\n",
      "operating_profit    float64\n",
      "sales_method         object\n",
      "dtype: object\n"
     ]
    }
   ],
   "source": [
    "# Check the data type of each column\n",
    "data_types = combined_data.dtypes\n",
    "\n",
    "# Display the data types\n",
    "print(data_types)\n"
   ]
  },
  {
   "cell_type": "code",
   "execution_count": 21,
   "metadata": {},
   "outputs": [
    {
     "name": "stdout",
     "output_type": "stream",
     "text": [
      "datetime64[ns]\n"
     ]
    }
   ],
   "source": [
    "#Check Invoice Date field\n",
    "#print(combined_data['invoice_date'].head())\n",
    "\n",
    "# Convert the \"invoice_date\" to a datetime datatype\n",
    "combined_data['invoice_date'] = pd.to_datetime(combined_data['invoice_date'], format='%Y/%m/%d', errors='coerce')\n",
    "\n",
    "# Verify the data type to confirm the conversion was successful\n",
    "print(combined_data['invoice_date'].dtype)"
   ]
  },
  {
   "cell_type": "code",
   "execution_count": 22,
   "metadata": {},
   "outputs": [
    {
     "name": "stdout",
     "output_type": "stream",
     "text": [
      "datetime64[ns]\n"
     ]
    }
   ],
   "source": [
    "# Verify that the \"invoice_date\" data type has been changed successfully.\n",
    "print(combined_data['invoice_date'].dtype)"
   ]
  },
  {
   "cell_type": "markdown",
   "metadata": {},
   "source": [
    "### 2. Determine which Region Sold the Most Products"
   ]
  },
  {
   "cell_type": "markdown",
   "metadata": {},
   "source": [
    "#### Using `groupby`"
   ]
  },
  {
   "cell_type": "code",
   "execution_count": 28,
   "metadata": {},
   "outputs": [
    {
     "name": "stdout",
     "output_type": "stream",
     "text": [
      "       region       state           city  Total_Products_Sold\n",
      "21  Northeast    New York       New York               111954\n",
      "33      South       Texas        Houston                90322\n",
      "44       West  California  San Francisco                85478\n",
      "43       West  California    Los Angeles                76384\n",
      "34  Southeast     Florida          Miami                73135\n"
     ]
    }
   ],
   "source": [
    "# Assignment instructions:\n",
    "# Show the number products sold for region, state, and city.\n",
    "# Rename the sum to \"Total_Products_Sold\".\n",
    "# Show the top 5 results.\n",
    "\n",
    "# Start Lish work below:\n",
    "\n",
    "# Group the data by 'region', 'state', 'city' and sum the 'units_sold' column\n",
    "product_sales = combined_data.groupby(['region', 'state', 'city'])['units_sold'].sum().reset_index()\n",
    "\n",
    "# Rename the sum column\n",
    "product_sales.rename(columns={'units_sold': 'Total_Products_Sold'}, inplace=True)\n",
    "\n",
    "# Sort the results in descending order and show the top 5\n",
    "top_five_product_sales = product_sales.sort_values(by='Total_Products_Sold', ascending=False).head(5)\n",
    "\n",
    "# Display the top 5 results\n",
    "print(top_five_product_sales)\n",
    "\n",
    "#Verify columns & data types\n",
    "#print(data_types)\n",
    "\n",
    "                            "
   ]
  },
  {
   "cell_type": "markdown",
   "metadata": {},
   "source": [
    "#### Using `pivot_table`"
   ]
  },
  {
   "cell_type": "code",
   "execution_count": 30,
   "metadata": {},
   "outputs": [
    {
     "name": "stdout",
     "output_type": "stream",
     "text": [
      "       region       state           city  Total_Products_Sold\n",
      "21  Northeast    New York       New York               111954\n",
      "33      South       Texas        Houston                90322\n",
      "44       West  California  San Francisco                85478\n",
      "43       West  California    Los Angeles                76384\n",
      "34  Southeast     Florida          Miami                73135\n"
     ]
    }
   ],
   "source": [
    "#Instructions provided\n",
    "# Show the number products sold for region, state, and city.\n",
    "# Rename the \"units_sold\" column to \"Total_Products_Sold\"\n",
    "# Show the top 5 results.\n",
    "\n",
    "# Lish Work below\n",
    "\n",
    "# Use pivot_table to sum 'units_sold' grouped by 'region', 'state', and 'city'\n",
    "product_sales = combined_data.pivot_table(values='units_sold', index=['region', 'state', 'city'], aggfunc='sum')\n",
    "\n",
    "# Rename the 'units_sold' column to 'Total_Products_Sold'\n",
    "product_sales.rename(columns={'units_sold': 'Total_Products_Sold'}, inplace=True)\n",
    "\n",
    "# Reset the index to make 'region', 'state', and 'city' regular columns again\n",
    "product_sales.reset_index(inplace=True)\n",
    "\n",
    "# Sort the results in descending order and show the top 5\n",
    "top_five_product_sales = product_sales.sort_values(by='Total_Products_Sold', ascending=False).head(5)\n",
    "\n",
    "# Display the top 5 results\n",
    "print(top_five_product_sales)"
   ]
  },
  {
   "cell_type": "markdown",
   "metadata": {},
   "source": [
    "### 3. Determine which Region had the Most Sales"
   ]
  },
  {
   "cell_type": "markdown",
   "metadata": {},
   "source": [
    "#### Using `groupby`"
   ]
  },
  {
   "cell_type": "code",
   "execution_count": 31,
   "metadata": {},
   "outputs": [
    {
     "name": "stdout",
     "output_type": "stream",
     "text": [
      "       region           state           city  Total Sales\n",
      "21  Northeast        New York       New York     39801235\n",
      "44       West      California  San Francisco     33973228\n",
      "34  Southeast         Florida          Miami     31600863\n",
      "39  Southeast  South Carolina     Charleston     29285637\n",
      "35  Southeast         Florida        Orlando     27682851\n"
     ]
    }
   ],
   "source": [
    "# Instructions\n",
    "# Show the total sales for the products sold for each region, state, and city.\n",
    "# Rename the \"total_sales\" column to \"Total Sales\"\n",
    "# Show the top 5 results.\n",
    "\n",
    "# Lish Work below\n",
    "\n",
    "# Group the data by 'region', 'state', 'city' and sum the 'total_sales' column\n",
    "total_sales = combined_data.groupby(['region', 'state', 'city'])['total_sales'].sum().reset_index()\n",
    "\n",
    "# Rename the 'total_sales' column to 'Total Sales'\n",
    "total_sales.rename(columns={'total_sales': 'Total Sales'}, inplace=True)\n",
    "\n",
    "# Sort the results in descending order and show the top 5\n",
    "top_total_sales = total_sales.sort_values(by='Total Sales', ascending=False).head(5)\n",
    "\n",
    "# Display the top 5 results\n",
    "print(top_total_sales)"
   ]
  },
  {
   "cell_type": "markdown",
   "metadata": {},
   "source": [
    "#### Using `pivot_table`"
   ]
  },
  {
   "cell_type": "code",
   "execution_count": 46,
   "metadata": {},
   "outputs": [
    {
     "name": "stdout",
     "output_type": "stream",
     "text": [
      "       region           state           city  Total Sales\n",
      "21  Northeast        New York       New York     39801235\n",
      "44       West      California  San Francisco     33973228\n",
      "34  Southeast         Florida          Miami     31600863\n",
      "39  Southeast  South Carolina     Charleston     29285637\n",
      "35  Southeast         Florida        Orlando     27682851\n"
     ]
    }
   ],
   "source": [
    "# Intructions below:\n",
    "#Show the total sales for the products sold for each region, state, and city.\n",
    "# Optional: Rename the \"total_sales\" column to \"Total Sales\"\n",
    "# Show the top 5 results.\n",
    "\n",
    "# Lish Work\n",
    "\n",
    "# Use pivot_table to sum 'total_sales' grouped by 'region', 'state', and 'city'\n",
    "total_sales_pivot = combined_data.pivot_table(values='total_sales', \n",
    "                                              index=['region', 'state', 'city'], \n",
    "                                              aggfunc='sum')\n",
    "\n",
    "# Rename the aggregated column to 'Total Sales'\n",
    "total_sales_pivot.rename(columns={'total_sales': 'Total Sales'}, inplace=True)\n",
    "\n",
    "# Reset the index to make 'region', 'state', and 'city' regular columns again\n",
    "total_sales_pivot.reset_index(inplace=True)\n",
    "\n",
    "# Sort the results in descending order and show the top 5\n",
    "top_total_sales = total_sales_pivot.sort_values(by='Total Sales', ascending=False).head(5)\n",
    "\n",
    "# Display the top 5 results to verify\n",
    "print(top_total_sales)"
   ]
  },
  {
   "cell_type": "markdown",
   "metadata": {
    "jp-MarkdownHeadingCollapsed": true,
    "tags": []
   },
   "source": [
    "### 4. Determine which Retailer had the Most Sales"
   ]
  },
  {
   "cell_type": "markdown",
   "metadata": {},
   "source": [
    "#### Using `groupby`"
   ]
  },
  {
   "cell_type": "code",
   "execution_count": 47,
   "metadata": {},
   "outputs": [
    {
     "name": "stdout",
     "output_type": "stream",
     "text": [
      "        retailer     region           state           city  Total Sales\n",
      "103    West Gear       West      California  San Francisco     32794405\n",
      "50        Kohl's       West      California    Los Angeles     25127160\n",
      "22   Foot Locker  Northeast        New York       New York     25008568\n",
      "109    West Gear       West      Washington        Seattle     24862675\n",
      "33   Foot Locker  Southeast  South Carolina     Charleston     24822280\n"
     ]
    }
   ],
   "source": [
    "#Instructions:\n",
    "# Show the total sales for the products sold for each retailer, region, state, and city.\n",
    "# Rename the \"total_sales\" column to \"Total Sales\"\n",
    "\n",
    "# Show the top 5 results.\n",
    "\n",
    "#Lish Work Below:\n",
    "# Group the data by 'retailer', 'region', 'state', and 'city' and sum the 'total_sales' column\n",
    "sales_by_location = combined_data.groupby(['retailer', 'region', 'state', 'city'])['total_sales'].sum().reset_index()\n",
    "\n",
    "# Rename the 'total_sales' column to 'Total Sales'\n",
    "sales_by_location.rename(columns={'total_sales': 'Total Sales'}, inplace=True)\n",
    "\n",
    "# Sort the results in descending order and show the top 5\n",
    "top_sales_locations = sales_by_location.sort_values(by='Total Sales', ascending=False).head(5)\n",
    "\n",
    "# Display the top 5 results to verify\n",
    "print(top_sales_locations)"
   ]
  },
  {
   "cell_type": "markdown",
   "metadata": {},
   "source": [
    "#### Using `pivot_table`"
   ]
  },
  {
   "cell_type": "code",
   "execution_count": 48,
   "metadata": {},
   "outputs": [
    {
     "name": "stdout",
     "output_type": "stream",
     "text": [
      "        retailer     region           state           city  Total Sales\n",
      "103    West Gear       West      California  San Francisco     32794405\n",
      "50        Kohl's       West      California    Los Angeles     25127160\n",
      "22   Foot Locker  Northeast        New York       New York     25008568\n",
      "109    West Gear       West      Washington        Seattle     24862675\n",
      "33   Foot Locker  Southeast  South Carolina     Charleston     24822280\n"
     ]
    }
   ],
   "source": [
    "# Instructions:\n",
    "#Show the total sales for the products sold for each retailer, region, state, and city.\n",
    "# Optional: Rename the \"total_sales\" column to \"Total Sales\"\n",
    "# Show the top 5 results.\n",
    "\n",
    "# Lish Work:\n",
    "# Use pivot_table to sum 'total_sales' grouped by 'retailer', 'region', 'state', and 'city'\n",
    "retailer_sales_pivot = combined_data.pivot_table(values='total_sales', \n",
    "                                                 index=['retailer', 'region', 'state', 'city'], \n",
    "                                                 aggfunc='sum')\n",
    "\n",
    "# Rename the aggregated column to 'Total Sales'\n",
    "retailer_sales_pivot.rename(columns={'total_sales': 'Total Sales'}, inplace=True)\n",
    "\n",
    "# Reset the index to make 'retailer', 'region', 'state', and 'city' regular columns again\n",
    "retailer_sales_pivot.reset_index(inplace=True)\n",
    "\n",
    "# Sort the results in descending order and show the top 5\n",
    "top_retailer_sales = retailer_sales_pivot.sort_values(by='Total Sales', ascending=False).head(5)\n",
    "\n",
    "# Display the top 5 results to verify\n",
    "print(top_retailer_sales)"
   ]
  },
  {
   "cell_type": "markdown",
   "metadata": {},
   "source": [
    "### 5. Determine which Retailer Sold the Most Women's Athletic Footwear"
   ]
  },
  {
   "cell_type": "code",
   "execution_count": 49,
   "metadata": {},
   "outputs": [
    {
     "name": "stdout",
     "output_type": "stream",
     "text": [
      "       retailer  retailer_id invoice_date     region         state  \\\n",
      "21  Foot Locker      1185732   2020-01-04  Northeast      New York   \n",
      "22  Foot Locker      1185732   2020-01-04  Northeast      New York   \n",
      "23  Foot Locker      1185732   2020-01-04  Northeast      New York   \n",
      "26    West Gear      1128299   2020-01-05  Northeast  Pennsylvania   \n",
      "27    West Gear      1128299   2020-01-05  Northeast  Pennsylvania   \n",
      "\n",
      "            city                    product  price_per_unit  units_sold  \\\n",
      "21      New York  Women's Athletic Footwear              36         281   \n",
      "22      New York  Women's Athletic Footwear              41         247   \n",
      "23      New York  Women's Athletic Footwear              45         850   \n",
      "26  Philadelphia  Women's Athletic Footwear              45         300   \n",
      "27  Philadelphia  Women's Athletic Footwear              34          90   \n",
      "\n",
      "    total_sales  operating_profit sales_method  \n",
      "21        10116           3742.92       Outlet  \n",
      "22        10127           4658.42       Online  \n",
      "23       382500         133875.00     In-store  \n",
      "26       135000          47250.00       Outlet  \n",
      "27         3060           1254.60       Outlet  \n"
     ]
    }
   ],
   "source": [
    "# Filter the sales data to get the women's athletic footwear sales data.\n",
    "\n",
    "womens_footwear_sales = combined_data[combined_data['product'] == \"Women's Athletic Footwear\"]\n",
    "\n",
    "# Display the filtered data to verify\n",
    "print(womens_footwear_sales.head())  "
   ]
  },
  {
   "cell_type": "markdown",
   "metadata": {},
   "source": [
    "#### Using `groupby`"
   ]
  },
  {
   "cell_type": "code",
   "execution_count": 51,
   "metadata": {},
   "outputs": [
    {
     "name": "stdout",
     "output_type": "stream",
     "text": [
      "          retailer     region           state           city  \\\n",
      "101      West Gear       West      California  San Francisco   \n",
      "22     Foot Locker  Northeast        New York       New York   \n",
      "49          Kohl's       West      California    Los Angeles   \n",
      "33     Foot Locker  Southeast  South Carolina     Charleston   \n",
      "68   Sports Direct      South           Texas         Dallas   \n",
      "\n",
      "     Womens_Footwear_Units_Sold  \n",
      "101                       12107  \n",
      "22                        10996  \n",
      "49                        10826  \n",
      "33                         8814  \n",
      "68                         8790  \n"
     ]
    }
   ],
   "source": [
    "# Instructions:\n",
    "# Show the total number of women's athletic footwear sold for each retailer, region, state, and city.\n",
    "# Rename the \"units_sold\" column to \"Womens_Footwear_Units_Sold\"\n",
    "# Show the top 5 results.\n",
    "\n",
    "# Lish Work:\n",
    "\n",
    "# Filter the DataFrame for women's athletic footwear\n",
    "womens_footwear_data = combined_data[combined_data['product'] == \"Women's Athletic Footwear\"]\n",
    "\n",
    "# Group the data by 'retailer', 'region', 'state', and 'city' and sum the 'units_sold' column\n",
    "womens_footwear_sales = womens_footwear_data.groupby(['retailer', 'region', 'state', 'city'])['units_sold'].sum().reset_index()\n",
    "\n",
    "# Rename the 'units_sold' column to 'Womens_Footwear_Units_Sold'\n",
    "womens_footwear_sales.rename(columns={'units_sold': 'Womens_Footwear_Units_Sold'}, inplace=True)\n",
    "\n",
    "# Sort the results in descending order and show the top 5\n",
    "top_womens_footwear_sales = womens_footwear_sales.sort_values(by='Womens_Footwear_Units_Sold', ascending=False).head(5)\n",
    "\n",
    "# Display the top 5 results to verify\n",
    "print(top_womens_footwear_sales)"
   ]
  },
  {
   "cell_type": "markdown",
   "metadata": {},
   "source": [
    "#### Using `pivot_table`"
   ]
  },
  {
   "cell_type": "code",
   "execution_count": 52,
   "metadata": {},
   "outputs": [
    {
     "name": "stdout",
     "output_type": "stream",
     "text": [
      "          retailer     region           state           city  \\\n",
      "101      West Gear       West      California  San Francisco   \n",
      "22     Foot Locker  Northeast        New York       New York   \n",
      "49          Kohl's       West      California    Los Angeles   \n",
      "33     Foot Locker  Southeast  South Carolina     Charleston   \n",
      "68   Sports Direct      South           Texas         Dallas   \n",
      "\n",
      "     Womens_Footwear_Units_Sold  \n",
      "101                       12107  \n",
      "22                        10996  \n",
      "49                        10826  \n",
      "33                         8814  \n",
      "68                         8790  \n"
     ]
    }
   ],
   "source": [
    "# Instructions: \n",
    "\n",
    "# Show the total number of women's athletic footwear sold for each retailer, region, state, and city.\n",
    "# Rename the \"units_sold\" column to \"Womens_Footwear_Units_Sold\"\n",
    "# Show the top 5 results.\n",
    "\n",
    "# Lish Work:\n",
    "\n",
    "# Filter the DataFrame for women's athletic footwear\n",
    "womens_footwear_data = combined_data[combined_data['product'] == \"Women's Athletic Footwear\"]\n",
    "\n",
    "# Use pivot_table to aggregate units sold for women's athletic footwear by retailer, region, state, and city\n",
    "womens_footwear_sales_pivot = womens_footwear_data.pivot_table(values='units_sold',\n",
    "                                                               index=['retailer', 'region', 'state', 'city'],\n",
    "                                                               aggfunc='sum')\n",
    "\n",
    "# Rename the aggregated column to 'Womens_Footwear_Units_Sold'\n",
    "womens_footwear_sales_pivot.rename(columns={'units_sold': 'Womens_Footwear_Units_Sold'}, inplace=True)\n",
    "\n",
    "# Reset the index to turn multi-index into regular columns for sorting\n",
    "womens_footwear_sales_pivot.reset_index(inplace=True)\n",
    "\n",
    "# Sort the results in descending order and display the top 5\n",
    "top_womens_footwear_sales = womens_footwear_sales_pivot.sort_values(by='Womens_Footwear_Units_Sold', ascending=False).head(5)\n",
    "\n",
    "# Display the top 5 results to verify\n",
    "print(top_womens_footwear_sales)"
   ]
  },
  {
   "cell_type": "markdown",
   "metadata": {},
   "source": [
    "### 5. Determine the Day with the Most Women's Athletic Footwear Sales"
   ]
  },
  {
   "cell_type": "code",
   "execution_count": 67,
   "metadata": {},
   "outputs": [
    {
     "name": "stdout",
     "output_type": "stream",
     "text": [
      "              Total Sales\n",
      "invoice_date             \n",
      "2020-01-04         402743\n",
      "2020-01-05         141801\n",
      "2020-01-11         129556\n",
      "2020-01-17         173013\n",
      "2020-01-22         388250\n",
      "...                   ...\n",
      "2021-12-22         200406\n",
      "2021-12-23         808022\n",
      "2021-12-24         190885\n",
      "2021-12-25         315175\n",
      "2021-12-30         167903\n",
      "\n",
      "[355 rows x 1 columns]\n",
      "Top Sales Day:               Total Sales\n",
      "invoice_date             \n",
      "2021-07-16        1521825\n"
     ]
    }
   ],
   "source": [
    "# Instructions:\n",
    "# Create a pivot table with the 'invoice_date' column is the index, and the \"total_sales\" as the values.\n",
    "# Optional: Rename the \"total_sales\" column to \"Total Sales\"\n",
    "# Show the table.\n",
    "\n",
    "# Lish Work:\n",
    "\n",
    "# Filter the DataFrame for women's athletic footwear\n",
    "womens_footwear_data = combined_data[combined_data['product'] == \"Women's Athletic Footwear\"].copy()  # Make a copy if you don't need to modify the original\n",
    "\n",
    "# Safely convert 'invoice_date' to datetime format\n",
    "womens_footwear_data.loc[:, 'invoice_date'] = pd.to_datetime(womens_footwear_data['invoice_date'])\n",
    "\n",
    "# Create a pivot table with 'invoice_date' as the index and sum of 'total_sales' as the values\n",
    "daily_sales = womens_footwear_data.pivot_table(values='total_sales', index='invoice_date', aggfunc='sum')\n",
    "\n",
    "# Rename the 'total_sales' column to 'Total Sales'\n",
    "daily_sales.rename(columns={'total_sales': 'Total Sales'}, inplace=True)\n",
    "\n",
    "# Display the pivot table to verify\n",
    "print(daily_sales)\n",
    "\n",
    "# Print the specific day that had the most sales\n",
    "\n",
    "# Sort the results to find the day with the highest sales\n",
    "top_sales_day = daily_sales.sort_values(by='Total Sales', ascending=False).head(1)\n",
    "\n",
    "# Display the day with the highest sales\n",
    "print('Top Sales Day:', top_sales_day)"
   ]
  },
  {
   "cell_type": "code",
   "execution_count": 69,
   "metadata": {},
   "outputs": [
    {
     "name": "stdout",
     "output_type": "stream",
     "text": [
      "              Total Sales\n",
      "invoice_date             \n",
      "2021-01-01              0\n",
      "2020-10-10              0\n",
      "2020-10-09              0\n",
      "2020-10-07              0\n",
      "2020-10-06              0\n",
      "...                   ...\n",
      "2021-07-23        1021806\n",
      "2021-08-17        1086294\n",
      "2021-06-17        1376988\n",
      "2021-12-16        1473497\n",
      "2021-07-16        1521825\n",
      "\n",
      "[727 rows x 1 columns]\n",
      "Top Sales Day:               Total Sales\n",
      "invoice_date             \n",
      "2021-07-16        1521825\n"
     ]
    }
   ],
   "source": [
    "# Instructions:\n",
    "# Resample the pivot table into daily bins, and get the total sales for each day.\n",
    "# Sort the resampled pivot table in ascending order on \"Total Sales\".\n",
    "\n",
    "# Lish Work:\n",
    "# Resample the data to ensure it is aggregated daily (in case of any missing days)\n",
    "daily_sales_resampled = daily_sales.resample('D').sum()\n",
    "\n",
    "# Sort the resampled pivot table in ascending order based on 'Total Sales'\n",
    "sorted_daily_sales = daily_sales_resampled.sort_values(by='Total Sales', ascending=True)\n",
    "\n",
    "# Display the sorted daily sales\n",
    "print(sorted_daily_sales)\n",
    "\n",
    "# Sort the results to find the day with the highest sales\n",
    "top_sales_day = daily_sales.sort_values(by='Total Sales', ascending=False).head(1)\n",
    "\n",
    "# Display the day with the highest sales\n",
    "print('Top Sales Day:', top_sales_day)"
   ]
  },
  {
   "cell_type": "markdown",
   "metadata": {},
   "source": [
    "### 6.  Determine the Week with the Most Women's Athletic Footwear Sales"
   ]
  },
  {
   "cell_type": "code",
   "execution_count": 72,
   "metadata": {
    "scrolled": true
   },
   "outputs": [
    {
     "name": "stdout",
     "output_type": "stream",
     "text": [
      "              Total Sales\n",
      "invoice_date             \n",
      "2021-12-19        3098970\n",
      "2021-12-12        2922161\n",
      "2021-07-11        2835078\n",
      "2021-07-18        2801449\n",
      "2021-11-14        2531721\n",
      "...                   ...\n",
      "2020-12-06          62801\n",
      "2020-12-20          61710\n",
      "2020-12-13          58916\n",
      "2020-11-22          53940\n",
      "2020-10-18              0\n",
      "\n",
      "[105 rows x 1 columns]\n",
      "Top Sales Week:               Total Sales\n",
      "invoice_date             \n",
      "2021-12-19        3098970\n"
     ]
    }
   ],
   "source": [
    "# Instructions:\n",
    "# Resample the pivot table into weekly bins, and get the total sales for each week.\n",
    "# Sort the resampled pivot table in ascending order on \"Total Sales\".\n",
    "\n",
    "# Lish Work:\n",
    "# Resample the data into weekly bins and sum to get total sales for each week\n",
    "weekly_sales = daily_sales.resample('W').sum()\n",
    "\n",
    "# Sort the resampled pivot table in descending order based on 'Total Sales' to get the most sales\n",
    "sorted_weekly_sales = weekly_sales.sort_values(by='Total Sales', ascending=False)\n",
    "\n",
    "# Display the sorted weekly sales\n",
    "print(sorted_weekly_sales)\n",
    "\n",
    "# Display the week with the highest sales\n",
    "print('Top Sales Week:', sorted_weekly_sales.head(1))"
   ]
  },
  {
   "cell_type": "code",
   "execution_count": null,
   "metadata": {},
   "outputs": [],
   "source": []
  }
 ],
 "metadata": {
  "kernelspec": {
   "display_name": "Python 3 (ipykernel)",
   "language": "python",
   "name": "python3"
  },
  "language_info": {
   "codemirror_mode": {
    "name": "ipython",
    "version": 3
   },
   "file_extension": ".py",
   "mimetype": "text/x-python",
   "name": "python",
   "nbconvert_exporter": "python",
   "pygments_lexer": "ipython3",
   "version": "3.11.5"
  }
 },
 "nbformat": 4,
 "nbformat_minor": 4
}
